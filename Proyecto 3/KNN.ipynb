{
 "cells": [
  {
   "cell_type": "code",
   "execution_count": 2,
   "id": "7ccc47c6-3f68-45f3-b839-5c4c8a32bd8d",
   "metadata": {},
   "outputs": [],
   "source": [
    "import pandas as pd\n",
    "import seaborn as sns\n",
    "import matplotlib.pyplot as plt \n",
    "import numpy as np"
   ]
  },
  {
   "cell_type": "code",
   "execution_count": 3,
   "id": "6f8b477d-7b92-4c7c-a8e0-8d99bfc4fe9f",
   "metadata": {},
   "outputs": [],
   "source": [
    "data = pd.read_csv('./data/diabetes_012_health_indicators_BRFSS2015.csv')"
   ]
  },
  {
   "cell_type": "code",
   "execution_count": 4,
   "id": "050bf8ce-03eb-434b-a3da-89f4ea92bd10",
   "metadata": {},
   "outputs": [],
   "source": [
    "from sklearn.preprocessing import StandardScaler\n",
    "scaler = StandardScaler()\n",
    "\n",
    "# Separando datos en observaciones y etiquetas\n",
    "y = data[\"Diabetes_012\"].values                # Etiquetas\n",
    "X = data.drop(columns=[\"Diabetes_012\"]).values # Observaciones\n",
    "\n",
    "# Normalizando datos\n",
    "X = scaler.fit_transform(X)\n",
    "from sklearn.model_selection import train_test_split, StratifiedKFold, cross_val_score\n",
    "\n",
    "# Separando datos en entrenamiento y prueba\n",
    "X_train, X_test, y_train, y_test = train_test_split(\n",
    "    X, y, test_size=0.2, stratify=y, random_state=42\n",
    ")\n",
    "\n",
    "# Iterador para validación cruzada\n",
    "skf = StratifiedKFold(n_splits=5, shuffle=True, random_state=42)\n",
    "\n",
    "# Función para obtener los scores de validación cruzada\n",
    "def get_cv_scores(model, X, y, cv):\n",
    "    scores = cross_val_score(model, X, y, cv=cv, scoring='accuracy')\n",
    "    print('CV Mean: ', np.mean(scores))\n",
    "    print('STD: ', np.std(scores))"
   ]
  },
  {
   "cell_type": "code",
   "execution_count": 5,
   "id": "e87c77f3-8c96-4f2e-af02-9679691c0b54",
   "metadata": {},
   "outputs": [],
   "source": [
    "from sklearn.neighbors import KNeighborsClassifier"
   ]
  },
  {
   "cell_type": "code",
   "execution_count": 6,
   "id": "b1a34774-44e0-45a7-ba96-e63afcc26180",
   "metadata": {},
   "outputs": [],
   "source": [
    "knn = KNeighborsClassifier(n_neighbors=3)"
   ]
  },
  {
   "cell_type": "code",
   "execution_count": 8,
   "id": "d388bff6-f3c5-4544-8d66-b5e4b055b888",
   "metadata": {},
   "outputs": [
    {
     "name": "stdout",
     "output_type": "stream",
     "text": [
      "CV Mean:  0.8205120578344622\n",
      "STD:  0.0014902753392517477\n"
     ]
    }
   ],
   "source": [
    "get_cv_scores(model=knn, X=X_train, y=y_train, cv=skf)"
   ]
  },
  {
   "cell_type": "code",
   "execution_count": null,
   "id": "77f7ae31-dbf2-4275-aea4-1e73977de311",
   "metadata": {},
   "outputs": [],
   "source": []
  }
 ],
 "metadata": {
  "kernelspec": {
   "display_name": "Python 3 (ipykernel)",
   "language": "python",
   "name": "python3"
  },
  "language_info": {
   "codemirror_mode": {
    "name": "ipython",
    "version": 3
   },
   "file_extension": ".py",
   "mimetype": "text/x-python",
   "name": "python",
   "nbconvert_exporter": "python",
   "pygments_lexer": "ipython3",
   "version": "3.12.1"
  }
 },
 "nbformat": 4,
 "nbformat_minor": 5
}
