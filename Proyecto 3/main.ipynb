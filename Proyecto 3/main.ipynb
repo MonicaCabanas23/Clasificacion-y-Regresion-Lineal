{
 "cells": [
  {
   "cell_type": "markdown",
   "id": "bd56e5e2-5a5a-4997-9284-91dc3f9a95dd",
   "metadata": {},
   "source": [
    "# Proyecto Final \n",
    "\n",
    "### Estudiantes:\n",
    "\n",
    "* Mónica Gabriela Cabañas Meléndez\n",
    "* Víctor Daniel Peraza Bolaños\n",
    "\n",
    "## Dataset Seleccionado: _CDC Diabetes Health Indicator_\n",
    "\n",
    "El conjunto de datos de indicadores de salud de la diabetes contiene estadísticas de atención médica e información de encuestas sobre el estilo de vida de las personas en general, junto con su diagnóstico de diabetes. Las 35 características consisten en algunos datos demográficos, resultados de análisis de laboratorio y respuestas a preguntas de la encuesta para cada paciente. La variable objetivo para la clasificación es si un paciente tiene diabetes, es prediabético o está sano."
   ]
  },
  {
   "cell_type": "code",
   "execution_count": 1,
   "id": "5bc67eb2",
   "metadata": {},
   "outputs": [],
   "source": [
    "import pandas as pd\n",
    "import seaborn as sns\n",
    "import matplotlib.pyplot as plt \n",
    "import numpy as np"
   ]
  },
  {
   "cell_type": "code",
   "execution_count": null,
   "id": "7c41d2ed",
   "metadata": {},
   "outputs": [],
   "source": [
    "#importacion de modelos\n",
    "from sklearn.linear_model import LogisticRegression, SGDClassifier\n",
    "from sklearn.neighbors import KNeighborsClassifier\n",
    "from sklearn.ensemble import RandomForestClassifier\n",
    "from sklearn.discriminant_analysis import LinearDiscriminantAnalysis\n",
    "from sklearn.tree import DecisionTreeClassifier\n",
    "from sklearn.neural_network import MLPClassifier\n",
    "# Metricas\n",
    "from sklearn.metrics import accuracy_score, recall_score, roc_auc_score, f1_score, classification_report, confusion_matrix, f1_score, recall_score, precision_score"
   ]
  },
  {
   "cell_type": "markdown",
   "id": "8c0d5121",
   "metadata": {},
   "source": [
    "## Carga de datos"
   ]
  },
  {
   "cell_type": "code",
   "execution_count": 2,
   "id": "5299ce5c",
   "metadata": {},
   "outputs": [],
   "source": [
    "data = pd.read_csv('./data/diabetes_012_health_indicators_BRFSS2015.csv')"
   ]
  },
  {
   "cell_type": "markdown",
   "id": "a76c5d69",
   "metadata": {},
   "source": [
    "## Ánalisis exploratorio y limpieza de datos"
   ]
  },
  {
   "cell_type": "code",
   "execution_count": 3,
   "id": "59c43a5c",
   "metadata": {},
   "outputs": [
    {
     "data": {
      "text/plain": [
       "(253680, 22)"
      ]
     },
     "execution_count": 3,
     "metadata": {},
     "output_type": "execute_result"
    }
   ],
   "source": [
    "data.shape"
   ]
  },
  {
   "cell_type": "code",
   "execution_count": 4,
   "id": "be148566",
   "metadata": {},
   "outputs": [
    {
     "data": {
      "text/html": [
       "<div>\n",
       "<style scoped>\n",
       "    .dataframe tbody tr th:only-of-type {\n",
       "        vertical-align: middle;\n",
       "    }\n",
       "\n",
       "    .dataframe tbody tr th {\n",
       "        vertical-align: top;\n",
       "    }\n",
       "\n",
       "    .dataframe thead th {\n",
       "        text-align: right;\n",
       "    }\n",
       "</style>\n",
       "<table border=\"1\" class=\"dataframe\">\n",
       "  <thead>\n",
       "    <tr style=\"text-align: right;\">\n",
       "      <th></th>\n",
       "      <th>Diabetes_012</th>\n",
       "      <th>HighBP</th>\n",
       "      <th>HighChol</th>\n",
       "      <th>CholCheck</th>\n",
       "      <th>BMI</th>\n",
       "      <th>Smoker</th>\n",
       "      <th>Stroke</th>\n",
       "      <th>HeartDiseaseorAttack</th>\n",
       "      <th>PhysActivity</th>\n",
       "      <th>Fruits</th>\n",
       "      <th>...</th>\n",
       "      <th>AnyHealthcare</th>\n",
       "      <th>NoDocbcCost</th>\n",
       "      <th>GenHlth</th>\n",
       "      <th>MentHlth</th>\n",
       "      <th>PhysHlth</th>\n",
       "      <th>DiffWalk</th>\n",
       "      <th>Sex</th>\n",
       "      <th>Age</th>\n",
       "      <th>Education</th>\n",
       "      <th>Income</th>\n",
       "    </tr>\n",
       "  </thead>\n",
       "  <tbody>\n",
       "    <tr>\n",
       "      <th>0</th>\n",
       "      <td>0.0</td>\n",
       "      <td>1.0</td>\n",
       "      <td>1.0</td>\n",
       "      <td>1.0</td>\n",
       "      <td>40.0</td>\n",
       "      <td>1.0</td>\n",
       "      <td>0.0</td>\n",
       "      <td>0.0</td>\n",
       "      <td>0.0</td>\n",
       "      <td>0.0</td>\n",
       "      <td>...</td>\n",
       "      <td>1.0</td>\n",
       "      <td>0.0</td>\n",
       "      <td>5.0</td>\n",
       "      <td>18.0</td>\n",
       "      <td>15.0</td>\n",
       "      <td>1.0</td>\n",
       "      <td>0.0</td>\n",
       "      <td>9.0</td>\n",
       "      <td>4.0</td>\n",
       "      <td>3.0</td>\n",
       "    </tr>\n",
       "    <tr>\n",
       "      <th>1</th>\n",
       "      <td>0.0</td>\n",
       "      <td>0.0</td>\n",
       "      <td>0.0</td>\n",
       "      <td>0.0</td>\n",
       "      <td>25.0</td>\n",
       "      <td>1.0</td>\n",
       "      <td>0.0</td>\n",
       "      <td>0.0</td>\n",
       "      <td>1.0</td>\n",
       "      <td>0.0</td>\n",
       "      <td>...</td>\n",
       "      <td>0.0</td>\n",
       "      <td>1.0</td>\n",
       "      <td>3.0</td>\n",
       "      <td>0.0</td>\n",
       "      <td>0.0</td>\n",
       "      <td>0.0</td>\n",
       "      <td>0.0</td>\n",
       "      <td>7.0</td>\n",
       "      <td>6.0</td>\n",
       "      <td>1.0</td>\n",
       "    </tr>\n",
       "    <tr>\n",
       "      <th>2</th>\n",
       "      <td>0.0</td>\n",
       "      <td>1.0</td>\n",
       "      <td>1.0</td>\n",
       "      <td>1.0</td>\n",
       "      <td>28.0</td>\n",
       "      <td>0.0</td>\n",
       "      <td>0.0</td>\n",
       "      <td>0.0</td>\n",
       "      <td>0.0</td>\n",
       "      <td>1.0</td>\n",
       "      <td>...</td>\n",
       "      <td>1.0</td>\n",
       "      <td>1.0</td>\n",
       "      <td>5.0</td>\n",
       "      <td>30.0</td>\n",
       "      <td>30.0</td>\n",
       "      <td>1.0</td>\n",
       "      <td>0.0</td>\n",
       "      <td>9.0</td>\n",
       "      <td>4.0</td>\n",
       "      <td>8.0</td>\n",
       "    </tr>\n",
       "    <tr>\n",
       "      <th>3</th>\n",
       "      <td>0.0</td>\n",
       "      <td>1.0</td>\n",
       "      <td>0.0</td>\n",
       "      <td>1.0</td>\n",
       "      <td>27.0</td>\n",
       "      <td>0.0</td>\n",
       "      <td>0.0</td>\n",
       "      <td>0.0</td>\n",
       "      <td>1.0</td>\n",
       "      <td>1.0</td>\n",
       "      <td>...</td>\n",
       "      <td>1.0</td>\n",
       "      <td>0.0</td>\n",
       "      <td>2.0</td>\n",
       "      <td>0.0</td>\n",
       "      <td>0.0</td>\n",
       "      <td>0.0</td>\n",
       "      <td>0.0</td>\n",
       "      <td>11.0</td>\n",
       "      <td>3.0</td>\n",
       "      <td>6.0</td>\n",
       "    </tr>\n",
       "    <tr>\n",
       "      <th>4</th>\n",
       "      <td>0.0</td>\n",
       "      <td>1.0</td>\n",
       "      <td>1.0</td>\n",
       "      <td>1.0</td>\n",
       "      <td>24.0</td>\n",
       "      <td>0.0</td>\n",
       "      <td>0.0</td>\n",
       "      <td>0.0</td>\n",
       "      <td>1.0</td>\n",
       "      <td>1.0</td>\n",
       "      <td>...</td>\n",
       "      <td>1.0</td>\n",
       "      <td>0.0</td>\n",
       "      <td>2.0</td>\n",
       "      <td>3.0</td>\n",
       "      <td>0.0</td>\n",
       "      <td>0.0</td>\n",
       "      <td>0.0</td>\n",
       "      <td>11.0</td>\n",
       "      <td>5.0</td>\n",
       "      <td>4.0</td>\n",
       "    </tr>\n",
       "    <tr>\n",
       "      <th>5</th>\n",
       "      <td>0.0</td>\n",
       "      <td>1.0</td>\n",
       "      <td>1.0</td>\n",
       "      <td>1.0</td>\n",
       "      <td>25.0</td>\n",
       "      <td>1.0</td>\n",
       "      <td>0.0</td>\n",
       "      <td>0.0</td>\n",
       "      <td>1.0</td>\n",
       "      <td>1.0</td>\n",
       "      <td>...</td>\n",
       "      <td>1.0</td>\n",
       "      <td>0.0</td>\n",
       "      <td>2.0</td>\n",
       "      <td>0.0</td>\n",
       "      <td>2.0</td>\n",
       "      <td>0.0</td>\n",
       "      <td>1.0</td>\n",
       "      <td>10.0</td>\n",
       "      <td>6.0</td>\n",
       "      <td>8.0</td>\n",
       "    </tr>\n",
       "    <tr>\n",
       "      <th>6</th>\n",
       "      <td>0.0</td>\n",
       "      <td>1.0</td>\n",
       "      <td>0.0</td>\n",
       "      <td>1.0</td>\n",
       "      <td>30.0</td>\n",
       "      <td>1.0</td>\n",
       "      <td>0.0</td>\n",
       "      <td>0.0</td>\n",
       "      <td>0.0</td>\n",
       "      <td>0.0</td>\n",
       "      <td>...</td>\n",
       "      <td>1.0</td>\n",
       "      <td>0.0</td>\n",
       "      <td>3.0</td>\n",
       "      <td>0.0</td>\n",
       "      <td>14.0</td>\n",
       "      <td>0.0</td>\n",
       "      <td>0.0</td>\n",
       "      <td>9.0</td>\n",
       "      <td>6.0</td>\n",
       "      <td>7.0</td>\n",
       "    </tr>\n",
       "    <tr>\n",
       "      <th>7</th>\n",
       "      <td>0.0</td>\n",
       "      <td>1.0</td>\n",
       "      <td>1.0</td>\n",
       "      <td>1.0</td>\n",
       "      <td>25.0</td>\n",
       "      <td>1.0</td>\n",
       "      <td>0.0</td>\n",
       "      <td>0.0</td>\n",
       "      <td>1.0</td>\n",
       "      <td>0.0</td>\n",
       "      <td>...</td>\n",
       "      <td>1.0</td>\n",
       "      <td>0.0</td>\n",
       "      <td>3.0</td>\n",
       "      <td>0.0</td>\n",
       "      <td>0.0</td>\n",
       "      <td>1.0</td>\n",
       "      <td>0.0</td>\n",
       "      <td>11.0</td>\n",
       "      <td>4.0</td>\n",
       "      <td>4.0</td>\n",
       "    </tr>\n",
       "    <tr>\n",
       "      <th>8</th>\n",
       "      <td>2.0</td>\n",
       "      <td>1.0</td>\n",
       "      <td>1.0</td>\n",
       "      <td>1.0</td>\n",
       "      <td>30.0</td>\n",
       "      <td>1.0</td>\n",
       "      <td>0.0</td>\n",
       "      <td>1.0</td>\n",
       "      <td>0.0</td>\n",
       "      <td>1.0</td>\n",
       "      <td>...</td>\n",
       "      <td>1.0</td>\n",
       "      <td>0.0</td>\n",
       "      <td>5.0</td>\n",
       "      <td>30.0</td>\n",
       "      <td>30.0</td>\n",
       "      <td>1.0</td>\n",
       "      <td>0.0</td>\n",
       "      <td>9.0</td>\n",
       "      <td>5.0</td>\n",
       "      <td>1.0</td>\n",
       "    </tr>\n",
       "    <tr>\n",
       "      <th>9</th>\n",
       "      <td>0.0</td>\n",
       "      <td>0.0</td>\n",
       "      <td>0.0</td>\n",
       "      <td>1.0</td>\n",
       "      <td>24.0</td>\n",
       "      <td>0.0</td>\n",
       "      <td>0.0</td>\n",
       "      <td>0.0</td>\n",
       "      <td>0.0</td>\n",
       "      <td>0.0</td>\n",
       "      <td>...</td>\n",
       "      <td>1.0</td>\n",
       "      <td>0.0</td>\n",
       "      <td>2.0</td>\n",
       "      <td>0.0</td>\n",
       "      <td>0.0</td>\n",
       "      <td>0.0</td>\n",
       "      <td>1.0</td>\n",
       "      <td>8.0</td>\n",
       "      <td>4.0</td>\n",
       "      <td>3.0</td>\n",
       "    </tr>\n",
       "  </tbody>\n",
       "</table>\n",
       "<p>10 rows × 22 columns</p>\n",
       "</div>"
      ],
      "text/plain": [
       "   Diabetes_012  HighBP  HighChol  CholCheck   BMI  Smoker  Stroke  \\\n",
       "0           0.0     1.0       1.0        1.0  40.0     1.0     0.0   \n",
       "1           0.0     0.0       0.0        0.0  25.0     1.0     0.0   \n",
       "2           0.0     1.0       1.0        1.0  28.0     0.0     0.0   \n",
       "3           0.0     1.0       0.0        1.0  27.0     0.0     0.0   \n",
       "4           0.0     1.0       1.0        1.0  24.0     0.0     0.0   \n",
       "5           0.0     1.0       1.0        1.0  25.0     1.0     0.0   \n",
       "6           0.0     1.0       0.0        1.0  30.0     1.0     0.0   \n",
       "7           0.0     1.0       1.0        1.0  25.0     1.0     0.0   \n",
       "8           2.0     1.0       1.0        1.0  30.0     1.0     0.0   \n",
       "9           0.0     0.0       0.0        1.0  24.0     0.0     0.0   \n",
       "\n",
       "   HeartDiseaseorAttack  PhysActivity  Fruits  ...  AnyHealthcare  \\\n",
       "0                   0.0           0.0     0.0  ...            1.0   \n",
       "1                   0.0           1.0     0.0  ...            0.0   \n",
       "2                   0.0           0.0     1.0  ...            1.0   \n",
       "3                   0.0           1.0     1.0  ...            1.0   \n",
       "4                   0.0           1.0     1.0  ...            1.0   \n",
       "5                   0.0           1.0     1.0  ...            1.0   \n",
       "6                   0.0           0.0     0.0  ...            1.0   \n",
       "7                   0.0           1.0     0.0  ...            1.0   \n",
       "8                   1.0           0.0     1.0  ...            1.0   \n",
       "9                   0.0           0.0     0.0  ...            1.0   \n",
       "\n",
       "   NoDocbcCost  GenHlth  MentHlth  PhysHlth  DiffWalk  Sex   Age  Education  \\\n",
       "0          0.0      5.0      18.0      15.0       1.0  0.0   9.0        4.0   \n",
       "1          1.0      3.0       0.0       0.0       0.0  0.0   7.0        6.0   \n",
       "2          1.0      5.0      30.0      30.0       1.0  0.0   9.0        4.0   \n",
       "3          0.0      2.0       0.0       0.0       0.0  0.0  11.0        3.0   \n",
       "4          0.0      2.0       3.0       0.0       0.0  0.0  11.0        5.0   \n",
       "5          0.0      2.0       0.0       2.0       0.0  1.0  10.0        6.0   \n",
       "6          0.0      3.0       0.0      14.0       0.0  0.0   9.0        6.0   \n",
       "7          0.0      3.0       0.0       0.0       1.0  0.0  11.0        4.0   \n",
       "8          0.0      5.0      30.0      30.0       1.0  0.0   9.0        5.0   \n",
       "9          0.0      2.0       0.0       0.0       0.0  1.0   8.0        4.0   \n",
       "\n",
       "   Income  \n",
       "0     3.0  \n",
       "1     1.0  \n",
       "2     8.0  \n",
       "3     6.0  \n",
       "4     4.0  \n",
       "5     8.0  \n",
       "6     7.0  \n",
       "7     4.0  \n",
       "8     1.0  \n",
       "9     3.0  \n",
       "\n",
       "[10 rows x 22 columns]"
      ]
     },
     "execution_count": 4,
     "metadata": {},
     "output_type": "execute_result"
    }
   ],
   "source": [
    "data.head(10)"
   ]
  },
  {
   "cell_type": "code",
   "execution_count": 5,
   "id": "4c7b2037",
   "metadata": {},
   "outputs": [
    {
     "name": "stdout",
     "output_type": "stream",
     "text": [
      "<class 'pandas.core.frame.DataFrame'>\n",
      "RangeIndex: 253680 entries, 0 to 253679\n",
      "Data columns (total 22 columns):\n",
      " #   Column                Non-Null Count   Dtype  \n",
      "---  ------                --------------   -----  \n",
      " 0   Diabetes_012          253680 non-null  float64\n",
      " 1   HighBP                253680 non-null  float64\n",
      " 2   HighChol              253680 non-null  float64\n",
      " 3   CholCheck             253680 non-null  float64\n",
      " 4   BMI                   253680 non-null  float64\n",
      " 5   Smoker                253680 non-null  float64\n",
      " 6   Stroke                253680 non-null  float64\n",
      " 7   HeartDiseaseorAttack  253680 non-null  float64\n",
      " 8   PhysActivity          253680 non-null  float64\n",
      " 9   Fruits                253680 non-null  float64\n",
      " 10  Veggies               253680 non-null  float64\n",
      " 11  HvyAlcoholConsump     253680 non-null  float64\n",
      " 12  AnyHealthcare         253680 non-null  float64\n",
      " 13  NoDocbcCost           253680 non-null  float64\n",
      " 14  GenHlth               253680 non-null  float64\n",
      " 15  MentHlth              253680 non-null  float64\n",
      " 16  PhysHlth              253680 non-null  float64\n",
      " 17  DiffWalk              253680 non-null  float64\n",
      " 18  Sex                   253680 non-null  float64\n",
      " 19  Age                   253680 non-null  float64\n",
      " 20  Education             253680 non-null  float64\n",
      " 21  Income                253680 non-null  float64\n",
      "dtypes: float64(22)\n",
      "memory usage: 42.6 MB\n"
     ]
    }
   ],
   "source": [
    "data.info()"
   ]
  },
  {
   "cell_type": "code",
   "execution_count": 6,
   "id": "1143001e",
   "metadata": {},
   "outputs": [
    {
     "data": {
      "text/html": [
       "<div>\n",
       "<style scoped>\n",
       "    .dataframe tbody tr th:only-of-type {\n",
       "        vertical-align: middle;\n",
       "    }\n",
       "\n",
       "    .dataframe tbody tr th {\n",
       "        vertical-align: top;\n",
       "    }\n",
       "\n",
       "    .dataframe thead th {\n",
       "        text-align: right;\n",
       "    }\n",
       "</style>\n",
       "<table border=\"1\" class=\"dataframe\">\n",
       "  <thead>\n",
       "    <tr style=\"text-align: right;\">\n",
       "      <th></th>\n",
       "      <th>Diabetes_012</th>\n",
       "      <th>HighBP</th>\n",
       "      <th>HighChol</th>\n",
       "      <th>CholCheck</th>\n",
       "      <th>BMI</th>\n",
       "      <th>Smoker</th>\n",
       "      <th>Stroke</th>\n",
       "      <th>HeartDiseaseorAttack</th>\n",
       "      <th>PhysActivity</th>\n",
       "      <th>Fruits</th>\n",
       "      <th>...</th>\n",
       "      <th>AnyHealthcare</th>\n",
       "      <th>NoDocbcCost</th>\n",
       "      <th>GenHlth</th>\n",
       "      <th>MentHlth</th>\n",
       "      <th>PhysHlth</th>\n",
       "      <th>DiffWalk</th>\n",
       "      <th>Sex</th>\n",
       "      <th>Age</th>\n",
       "      <th>Education</th>\n",
       "      <th>Income</th>\n",
       "    </tr>\n",
       "  </thead>\n",
       "  <tbody>\n",
       "    <tr>\n",
       "      <th>count</th>\n",
       "      <td>253680.000000</td>\n",
       "      <td>253680.000000</td>\n",
       "      <td>253680.000000</td>\n",
       "      <td>253680.000000</td>\n",
       "      <td>253680.000000</td>\n",
       "      <td>253680.000000</td>\n",
       "      <td>253680.000000</td>\n",
       "      <td>253680.000000</td>\n",
       "      <td>253680.000000</td>\n",
       "      <td>253680.000000</td>\n",
       "      <td>...</td>\n",
       "      <td>253680.000000</td>\n",
       "      <td>253680.000000</td>\n",
       "      <td>253680.000000</td>\n",
       "      <td>253680.000000</td>\n",
       "      <td>253680.000000</td>\n",
       "      <td>253680.000000</td>\n",
       "      <td>253680.000000</td>\n",
       "      <td>253680.000000</td>\n",
       "      <td>253680.000000</td>\n",
       "      <td>253680.000000</td>\n",
       "    </tr>\n",
       "    <tr>\n",
       "      <th>mean</th>\n",
       "      <td>0.296921</td>\n",
       "      <td>0.429001</td>\n",
       "      <td>0.424121</td>\n",
       "      <td>0.962670</td>\n",
       "      <td>28.382364</td>\n",
       "      <td>0.443169</td>\n",
       "      <td>0.040571</td>\n",
       "      <td>0.094186</td>\n",
       "      <td>0.756544</td>\n",
       "      <td>0.634256</td>\n",
       "      <td>...</td>\n",
       "      <td>0.951053</td>\n",
       "      <td>0.084177</td>\n",
       "      <td>2.511392</td>\n",
       "      <td>3.184772</td>\n",
       "      <td>4.242081</td>\n",
       "      <td>0.168224</td>\n",
       "      <td>0.440342</td>\n",
       "      <td>8.032119</td>\n",
       "      <td>5.050434</td>\n",
       "      <td>6.053875</td>\n",
       "    </tr>\n",
       "    <tr>\n",
       "      <th>std</th>\n",
       "      <td>0.698160</td>\n",
       "      <td>0.494934</td>\n",
       "      <td>0.494210</td>\n",
       "      <td>0.189571</td>\n",
       "      <td>6.608694</td>\n",
       "      <td>0.496761</td>\n",
       "      <td>0.197294</td>\n",
       "      <td>0.292087</td>\n",
       "      <td>0.429169</td>\n",
       "      <td>0.481639</td>\n",
       "      <td>...</td>\n",
       "      <td>0.215759</td>\n",
       "      <td>0.277654</td>\n",
       "      <td>1.068477</td>\n",
       "      <td>7.412847</td>\n",
       "      <td>8.717951</td>\n",
       "      <td>0.374066</td>\n",
       "      <td>0.496429</td>\n",
       "      <td>3.054220</td>\n",
       "      <td>0.985774</td>\n",
       "      <td>2.071148</td>\n",
       "    </tr>\n",
       "    <tr>\n",
       "      <th>min</th>\n",
       "      <td>0.000000</td>\n",
       "      <td>0.000000</td>\n",
       "      <td>0.000000</td>\n",
       "      <td>0.000000</td>\n",
       "      <td>12.000000</td>\n",
       "      <td>0.000000</td>\n",
       "      <td>0.000000</td>\n",
       "      <td>0.000000</td>\n",
       "      <td>0.000000</td>\n",
       "      <td>0.000000</td>\n",
       "      <td>...</td>\n",
       "      <td>0.000000</td>\n",
       "      <td>0.000000</td>\n",
       "      <td>1.000000</td>\n",
       "      <td>0.000000</td>\n",
       "      <td>0.000000</td>\n",
       "      <td>0.000000</td>\n",
       "      <td>0.000000</td>\n",
       "      <td>1.000000</td>\n",
       "      <td>1.000000</td>\n",
       "      <td>1.000000</td>\n",
       "    </tr>\n",
       "    <tr>\n",
       "      <th>25%</th>\n",
       "      <td>0.000000</td>\n",
       "      <td>0.000000</td>\n",
       "      <td>0.000000</td>\n",
       "      <td>1.000000</td>\n",
       "      <td>24.000000</td>\n",
       "      <td>0.000000</td>\n",
       "      <td>0.000000</td>\n",
       "      <td>0.000000</td>\n",
       "      <td>1.000000</td>\n",
       "      <td>0.000000</td>\n",
       "      <td>...</td>\n",
       "      <td>1.000000</td>\n",
       "      <td>0.000000</td>\n",
       "      <td>2.000000</td>\n",
       "      <td>0.000000</td>\n",
       "      <td>0.000000</td>\n",
       "      <td>0.000000</td>\n",
       "      <td>0.000000</td>\n",
       "      <td>6.000000</td>\n",
       "      <td>4.000000</td>\n",
       "      <td>5.000000</td>\n",
       "    </tr>\n",
       "    <tr>\n",
       "      <th>50%</th>\n",
       "      <td>0.000000</td>\n",
       "      <td>0.000000</td>\n",
       "      <td>0.000000</td>\n",
       "      <td>1.000000</td>\n",
       "      <td>27.000000</td>\n",
       "      <td>0.000000</td>\n",
       "      <td>0.000000</td>\n",
       "      <td>0.000000</td>\n",
       "      <td>1.000000</td>\n",
       "      <td>1.000000</td>\n",
       "      <td>...</td>\n",
       "      <td>1.000000</td>\n",
       "      <td>0.000000</td>\n",
       "      <td>2.000000</td>\n",
       "      <td>0.000000</td>\n",
       "      <td>0.000000</td>\n",
       "      <td>0.000000</td>\n",
       "      <td>0.000000</td>\n",
       "      <td>8.000000</td>\n",
       "      <td>5.000000</td>\n",
       "      <td>7.000000</td>\n",
       "    </tr>\n",
       "    <tr>\n",
       "      <th>75%</th>\n",
       "      <td>0.000000</td>\n",
       "      <td>1.000000</td>\n",
       "      <td>1.000000</td>\n",
       "      <td>1.000000</td>\n",
       "      <td>31.000000</td>\n",
       "      <td>1.000000</td>\n",
       "      <td>0.000000</td>\n",
       "      <td>0.000000</td>\n",
       "      <td>1.000000</td>\n",
       "      <td>1.000000</td>\n",
       "      <td>...</td>\n",
       "      <td>1.000000</td>\n",
       "      <td>0.000000</td>\n",
       "      <td>3.000000</td>\n",
       "      <td>2.000000</td>\n",
       "      <td>3.000000</td>\n",
       "      <td>0.000000</td>\n",
       "      <td>1.000000</td>\n",
       "      <td>10.000000</td>\n",
       "      <td>6.000000</td>\n",
       "      <td>8.000000</td>\n",
       "    </tr>\n",
       "    <tr>\n",
       "      <th>max</th>\n",
       "      <td>2.000000</td>\n",
       "      <td>1.000000</td>\n",
       "      <td>1.000000</td>\n",
       "      <td>1.000000</td>\n",
       "      <td>98.000000</td>\n",
       "      <td>1.000000</td>\n",
       "      <td>1.000000</td>\n",
       "      <td>1.000000</td>\n",
       "      <td>1.000000</td>\n",
       "      <td>1.000000</td>\n",
       "      <td>...</td>\n",
       "      <td>1.000000</td>\n",
       "      <td>1.000000</td>\n",
       "      <td>5.000000</td>\n",
       "      <td>30.000000</td>\n",
       "      <td>30.000000</td>\n",
       "      <td>1.000000</td>\n",
       "      <td>1.000000</td>\n",
       "      <td>13.000000</td>\n",
       "      <td>6.000000</td>\n",
       "      <td>8.000000</td>\n",
       "    </tr>\n",
       "  </tbody>\n",
       "</table>\n",
       "<p>8 rows × 22 columns</p>\n",
       "</div>"
      ],
      "text/plain": [
       "        Diabetes_012         HighBP       HighChol      CholCheck  \\\n",
       "count  253680.000000  253680.000000  253680.000000  253680.000000   \n",
       "mean        0.296921       0.429001       0.424121       0.962670   \n",
       "std         0.698160       0.494934       0.494210       0.189571   \n",
       "min         0.000000       0.000000       0.000000       0.000000   \n",
       "25%         0.000000       0.000000       0.000000       1.000000   \n",
       "50%         0.000000       0.000000       0.000000       1.000000   \n",
       "75%         0.000000       1.000000       1.000000       1.000000   \n",
       "max         2.000000       1.000000       1.000000       1.000000   \n",
       "\n",
       "                 BMI         Smoker         Stroke  HeartDiseaseorAttack  \\\n",
       "count  253680.000000  253680.000000  253680.000000         253680.000000   \n",
       "mean       28.382364       0.443169       0.040571              0.094186   \n",
       "std         6.608694       0.496761       0.197294              0.292087   \n",
       "min        12.000000       0.000000       0.000000              0.000000   \n",
       "25%        24.000000       0.000000       0.000000              0.000000   \n",
       "50%        27.000000       0.000000       0.000000              0.000000   \n",
       "75%        31.000000       1.000000       0.000000              0.000000   \n",
       "max        98.000000       1.000000       1.000000              1.000000   \n",
       "\n",
       "        PhysActivity         Fruits  ...  AnyHealthcare    NoDocbcCost  \\\n",
       "count  253680.000000  253680.000000  ...  253680.000000  253680.000000   \n",
       "mean        0.756544       0.634256  ...       0.951053       0.084177   \n",
       "std         0.429169       0.481639  ...       0.215759       0.277654   \n",
       "min         0.000000       0.000000  ...       0.000000       0.000000   \n",
       "25%         1.000000       0.000000  ...       1.000000       0.000000   \n",
       "50%         1.000000       1.000000  ...       1.000000       0.000000   \n",
       "75%         1.000000       1.000000  ...       1.000000       0.000000   \n",
       "max         1.000000       1.000000  ...       1.000000       1.000000   \n",
       "\n",
       "             GenHlth       MentHlth       PhysHlth       DiffWalk  \\\n",
       "count  253680.000000  253680.000000  253680.000000  253680.000000   \n",
       "mean        2.511392       3.184772       4.242081       0.168224   \n",
       "std         1.068477       7.412847       8.717951       0.374066   \n",
       "min         1.000000       0.000000       0.000000       0.000000   \n",
       "25%         2.000000       0.000000       0.000000       0.000000   \n",
       "50%         2.000000       0.000000       0.000000       0.000000   \n",
       "75%         3.000000       2.000000       3.000000       0.000000   \n",
       "max         5.000000      30.000000      30.000000       1.000000   \n",
       "\n",
       "                 Sex            Age      Education         Income  \n",
       "count  253680.000000  253680.000000  253680.000000  253680.000000  \n",
       "mean        0.440342       8.032119       5.050434       6.053875  \n",
       "std         0.496429       3.054220       0.985774       2.071148  \n",
       "min         0.000000       1.000000       1.000000       1.000000  \n",
       "25%         0.000000       6.000000       4.000000       5.000000  \n",
       "50%         0.000000       8.000000       5.000000       7.000000  \n",
       "75%         1.000000      10.000000       6.000000       8.000000  \n",
       "max         1.000000      13.000000       6.000000       8.000000  \n",
       "\n",
       "[8 rows x 22 columns]"
      ]
     },
     "execution_count": 6,
     "metadata": {},
     "output_type": "execute_result"
    }
   ],
   "source": [
    "data.describe()"
   ]
  },
  {
   "cell_type": "code",
   "execution_count": 7,
   "id": "27532e7d",
   "metadata": {},
   "outputs": [
    {
     "data": {
      "text/plain": [
       "Diabetes_012            0\n",
       "HighBP                  0\n",
       "HighChol                0\n",
       "CholCheck               0\n",
       "BMI                     0\n",
       "Smoker                  0\n",
       "Stroke                  0\n",
       "HeartDiseaseorAttack    0\n",
       "PhysActivity            0\n",
       "Fruits                  0\n",
       "Veggies                 0\n",
       "HvyAlcoholConsump       0\n",
       "AnyHealthcare           0\n",
       "NoDocbcCost             0\n",
       "GenHlth                 0\n",
       "MentHlth                0\n",
       "PhysHlth                0\n",
       "DiffWalk                0\n",
       "Sex                     0\n",
       "Age                     0\n",
       "Education               0\n",
       "Income                  0\n",
       "dtype: int64"
      ]
     },
     "execution_count": 7,
     "metadata": {},
     "output_type": "execute_result"
    }
   ],
   "source": [
    "data.isnull().sum()"
   ]
  },
  {
   "cell_type": "code",
   "execution_count": 17,
   "id": "06f77ebb",
   "metadata": {},
   "outputs": [
    {
     "name": "stdout",
     "output_type": "stream",
     "text": [
      "Diabetes_012\n",
      "0.0    213703\n",
      "1.0      4631\n",
      "2.0     35346\n",
      "Name: count, dtype: int64\n"
     ]
    }
   ],
   "source": [
    "print(data['Diabetes_012'].value_counts().sort_index())"
   ]
  },
  {
   "cell_type": "markdown",
   "id": "c7199997",
   "metadata": {},
   "source": [
    "<div class=\"alert alert-info\">\n",
    "    <h3>Conclusiones</h3>\n",
    "    <ul>\n",
    "        <li>Se cuenta con <b>253,680</b> datos con <b>21</b> características y una columna target que indica si los pacientes son sanos, pre-diabéticos, o diabéticos.</li>\n",
    "        <li>Todas las características se encuentran codificadas por valores numéricos, sin embargo, algunas características se encuentran en órdenes de magnitud distintas a otras, como es el caso del BMI, Mental Health y Physical Health.</li>\n",
    "        <li>No se encontraron datos nulos o faltantes por lo cual no es necesario procesar observaciones con datos faltantes.</li>\n",
    "        <li>Los datos se encuentran desbalanceados, siendo la clase dominante la de los pacientes sanos con <b>213,703</b> observaciones, <b>4,631</b> observaciones para pacientes pre-diabéticos, y <b>35,346</b> para pacientes diabéticos. Lo anterior se puede ver representado con los siguientes porcentajes: <b>84.24%</b> pacientes sanos, <b>1.82%</b> pacientes pre-diabéticos, y <b>13.93%</b> pacientes diabéticos.</li>\n",
    "    </ul>\n",
    "</div>"
   ]
  },
  {
   "cell_type": "markdown",
   "id": "8434355f",
   "metadata": {},
   "source": [
    "# Figuras ilustrativas de los datos"
   ]
  },
  {
   "cell_type": "code",
   "execution_count": 9,
   "id": "b1e37cd8",
   "metadata": {},
   "outputs": [
    {
     "data": {
      "image/png": "[encoded data removed]",
      "text/plain": [
       "<Figure size 1600x500 with 2 Axes>"
      ]
     },
     "metadata": {},
     "output_type": "display_data"
    }
   ],
   "source": [
    "diabetes_labels = ['No diabético', 'Pre-diabético', 'Diabético']\n",
    "diabetes_values = [(data['Diabetes_012'] == 0).sum(), (data['Diabetes_012'] == 1).sum(), (data['Diabetes_012'] == 2).sum()]\n",
    "\n",
    "# Gráfico de pastel para género\n",
    "fig, axs = plt.subplots(1, 2, figsize=(16, 5))\n",
    "wedges, texts, autotexts = axs[0].pie(x=diabetes_values, labels=diabetes_labels, autopct='%1.1f%%', startangle=90, colors=['#003049', '#f77f00', '#d62828'])\n",
    "axs[0].set_title('Distribución de tipo de diabetes en pacientes')\n",
    "autotexts[0].set_color('white')\n",
    "autotexts[1].set_color('white')\n",
    "autotexts[2].set_color('white')\n",
    "\n",
    "axs[1].bar(diabetes_labels, diabetes_values, color=['#003049', '#f77f00', '#d62828'])\n",
    "axs[1].set_title('Distribución de tipo de diabetes en pacientes')\n",
    "axs[1].set_xlabel('Tipo de diabetes')\n",
    "axs[1].set_ylabel('Cantidad de pacientes')\n",
    "\n",
    "plt.show()"
   ]
  },
  {
   "cell_type": "code",
   "execution_count": 10,
   "id": "412a9e80",
   "metadata": {},
   "outputs": [
    {
     "data": {
      "image/png": "[encoded data removed]",
      "text/plain": [
       "<Figure size 1600x500 with 2 Axes>"
      ]
     },
     "metadata": {},
     "output_type": "display_data"
    }
   ],
   "source": [
    "sex_labels = ['Masculino', 'Femenino']\n",
    "sex_values = [(data['Sex'] == 1).sum(), (data['Sex'] == 0).sum()]\n",
    "\n",
    "# Gráfico de pastel para género\n",
    "fig, axs = plt.subplots(1, 2, figsize=(16, 5))\n",
    "wedges, texts, autotexts = axs[0].pie(x=sex_values, labels=sex_labels, autopct='%1.1f%%', startangle=90, colors=['#003049', '#fcbf49'])\n",
    "axs[0].set_title('Distribución de sexo en pacientes')\n",
    "autotexts[0].set_color('white')\n",
    "autotexts[1].set_color('white')\n",
    "\n",
    "axs[1].bar(sex_labels, sex_values, color=['#003049', '#fcbf49'])\n",
    "axs[1].set_title('Distribución de sexo en pacientes')\n",
    "axs[1].set_xlabel('Tipo de diabetes')\n",
    "axs[1].set_ylabel('Cantidad de pacientes')\n",
    "\n",
    "plt.show()"
   ]
  },
  {
   "cell_type": "code",
   "execution_count": 11,
   "id": "fd5c316b",
   "metadata": {},
   "outputs": [
    {
     "data": {
      "image/png": "[encoded data removed]",
      "text/plain": [
       "<Figure size 640x480 with 1 Axes>"
      ]
     },
     "metadata": {},
     "output_type": "display_data"
    }
   ],
   "source": [
    "age_labels = list(data['Age'].value_counts().sort_index().index.astype(str))\n",
    "age_values = list(data['Age'].value_counts().sort_index().values)\n",
    "# Gráfico de barras para ocupaciones\n",
    "plt.barh(age_labels, age_values, color=['#036666', '#14746F', '#248277', '#358F80', '#469D89', '#56AB91', \n",
    "                                                      '#67B99A', '#78C7A2', '#89D5AB', '#9AE3B4', '#ABF1BC', '#BCFFC5'])\n",
    "plt.title('Distribución de edades en pacientes')\n",
    "plt.ylabel('Edad')\n",
    "plt.xlabel('Cantidad de pacientes')\n",
    "plt.grid(axis='x')\n",
    "\n",
    "plt.show()"
   ]
  },
  {
   "cell_type": "code",
   "execution_count": 12,
   "id": "7a245fe0",
   "metadata": {},
   "outputs": [
    {
     "data": {
      "image/png": "[encoded data removed]",
      "text/plain": [
       "<Figure size 640x480 with 1 Axes>"
      ]
     },
     "metadata": {},
     "output_type": "display_data"
    }
   ],
   "source": [
    "fig, ax = plt.subplots()\n",
    "labels = ['Sin Educación','Primaria','Secundaria Inc.', 'Bachiller', 'Técnico','Universidad']\n",
    "ax = sns.countplot(data=data, x=\"Education\", order=data['Education'].value_counts(ascending=True).index)\n",
    "ax.set_xticks(range(0,6))\n",
    "ax.set_xticklabels(labels)\n",
    "ax.tick_params(axis='x', labelrotation=30)\n",
    "\n",
    "\n",
    "abs_vals = data['Education'].value_counts(ascending=True).values\n",
    "ax.bar_label(container=ax.containers[0], labels=abs_vals)\n",
    "\n",
    "ax.set_title(\"Nivel educativo de los participantes\")  \n",
    "ax.set_xlabel(\"Nivel de Educación\")  \n",
    "ax.set_ylabel(\"Recuento\") \n",
    "plt.show()"
   ]
  },
  {
   "cell_type": "code",
   "execution_count": 14,
   "id": "c014fc8f",
   "metadata": {},
   "outputs": [
    {
     "data": {
      "image/png": "[encoded data removed]",
      "text/plain": [
       "<Figure size 640x480 with 1 Axes>"
      ]
     },
     "metadata": {},
     "output_type": "display_data"
    }
   ],
   "source": [
    "# Clustered bar plot\n",
    "ax = sns.countplot(data=data, x='Diabetes_012', hue='PhysHlth', palette='Set2')\n",
    "\n",
    "# Add labels and title\n",
    "ax.set_title(\"Heavy Alcohol Consumption by Diabetes Category\")\n",
    "ax.set_xlabel(\"Diabetes Category (0: No Diabetes, 1: Diabetes, 2: Pre-diabetes)\")\n",
    "ax.set_ylabel(\"Count\")\n",
    "ax.legend(labels=[\"No\", \"Yes\"])\n",
    "\n",
    "plt.show()"
   ]
  },
  {
   "cell_type": "code",
   "execution_count": 15,
   "id": "4eaebcd4",
   "metadata": {},
   "outputs": [
    {
     "data": {
      "image/png": "[encoded data removed]",
      "text/plain": [
       "<Figure size 1440x400 with 3 Axes>"
      ]
     },
     "metadata": {},
     "output_type": "display_data"
    }
   ],
   "source": [
    "# FacetGrid for small multiples\n",
    "g = sns.FacetGrid(data, col=\"Diabetes_012\", height=4, aspect=1.2, sharey=True)\n",
    "g.map(sns.histplot, \"PhysHlth\", bins=30, kde=True, color=\"blue\")\n",
    "\n",
    "# Update titles and labels\n",
    "g.set_titles(\"Diabetes Category: {col_name}\")\n",
    "g.set_axis_labels(\"Physical Health Days (1-30)\", \"Count\")\n",
    "plt.subplots_adjust(top=0.85)\n",
    "g.fig.suptitle(\"Physical Health Days Distribution by Diabetes Category\")\n",
    "plt.show()\n"
   ]
  },
  {
   "cell_type": "markdown",
   "id": "738d7581",
   "metadata": {},
   "source": [
    "1. Flujo de Entrenamiento:\n",
    "    * Cross Validation\n",
    "    * Boostrapping\n",
    "    * Whole Training Dataset\n",
    "\n",
    "2. Test - Predict\n",
    "3. Model EValuation\n",
    "    * Graphs\n",
    "    * Kruskal Wallis"
   ]
  },
  {
   "cell_type": "markdown",
   "id": "add2db47",
   "metadata": {},
   "source": [
    "## Esquema de entrenamiento\n",
    "\n",
    "Para el entrenamiento de los diferentes modelos de clasificación a emplear, se seguirá el siguiente flujo de entrenamiento: \n",
    "\n",
    "1. **Se separan los datos en dos grupos**: Un bloque de datos será destinado para el entrenamiento de los modelos y otro para su evaluación, en una distribución de 75/25. Donde los datos que sean empleados para entrenar el modelo no serán los mismos que los empleados para poder evaluarlo, evitando de esta forma brindar conclusiones únicamente de datos ya previamente conocidos por los diferentes clasificadores. Por ende, ninguno de los datos presentes en el bloque de entrenamiento será empleado en el set de datos empleados para la evaluación de los modelos.\n",
    "2. **Stratified K-Fold Cross Validation**: Se dividirán los datos de entrenamiento en diferentes particiones para poder entrenar el modelo, evitar una sobredependencia en los datos ya vistos y evitar de esta forma que los modelos se sobreajusten (*over-fitting*) a la información y tengan un muy buen rendimiento aparente en datos conocidos pero al momento de agregar o probar con nueva información este sea incapaz de procesarla o lo haga con resultados pobres.\n",
    "\n",
    "    Se empleará la variente de Particiones Estratificadas o Stratified K-Fold, debido a que se esta trabajando con un conjunto de datos desbalanceado, donde además de ser múlticlase, las clases se encuentran distribuidas de forma desigual. En este caso, como se mencionó anteriormente, existe una sobre-representación por parte de los pacientes saludables en comparación con los diabéticos y los pre-diabéticos, y si no se toman medidas para poder ajustar los modelos a estas variaciones en las representaciones de los datos, se podría caer en casos donde las particiones de datos no contengan datos de alguna de las clases menos representadas, afectando el entrenamiento del modelo.\n",
    "\n",
    "3. **Bootstrapping**: Acto seguido, se empleará Bootstrapping para entrenar el modelo en esta ocasión con valores los cuales pueden repetirse entre las diferentes muestras, dad la naturaleza del muestro con repetición, para validar que los resultados se mantienen consistentes al momento de realizar las clasificaciones, además de poder reducir el sesgo que podría producirse dado el caso de emplear particiones únicas.\n",
    "\n",
    "4. **Entrenamiento completo en set de entrenamiento**: Finalmente, se entrenará el modelo en el grupo de entrenamiento completo, como última validación de métricas sin los cambios establecidos por la separación y estratificación o la repetición de datos, además de poder medir el tiempo completo que le tomaría al modelo entrenarse en el tamaño del set de datos.\n",
    "\n",
    "De cada uno estos pasos se obtendran métricas del entrenamiento como referencia base para el contraste con el set de datos de evaluación del modelo. "
   ]
  },
  {
   "cell_type": "markdown",
   "id": "538f7d7d",
   "metadata": {},
   "source": [
    "## Estandarización de datos"
   ]
  },
  {
   "cell_type": "code",
   "execution_count": null,
   "id": "f9987510",
   "metadata": {},
   "outputs": [],
   "source": [
    "from sklearn.preprocessing import StandardScaler\n",
    "scaler = StandardScaler()\n",
    "\n",
    "# Separando datos en observaciones y etiquetas\n",
    "y = data[\"Diabetes_012\"].values                # Etiquetas\n",
    "X = data.drop(columns=[\"Diabetes_012\"]).values # Observaciones\n",
    "\n",
    "# Estandarizando datos\n",
    "X = scaler.fit_transform(X)"
   ]
  },
  {
   "cell_type": "markdown",
   "id": "598c63ba",
   "metadata": {},
   "source": [
    "## Separación de datos en entrenamiento y prueba"
   ]
  },
  {
   "cell_type": "code",
   "execution_count": null,
   "id": "e8f783da",
   "metadata": {},
   "outputs": [],
   "source": [
    "from sklearn.model_selection import train_test_split\n",
    "\n",
    "# Separando datos en entrenamiento y prueba\n",
    "X_train, X_test, y_train, y_test = train_test_split(\n",
    "    X, y, test_size=0.2, stratify=y, random_state=42\n",
    ")"
   ]
  },
  {
   "cell_type": "markdown",
   "id": "bd982afe",
   "metadata": {},
   "source": [
    "## Cross-validation\n",
    "\n",
    "A continuación se utilizará el proceso de cross-validation para evaluar cuál modelo tendrá un mejor rendimiento frente a datos desconocidos. Se tomará la decisión partir de la exactitud promedio que tenga cada modelo, es decir, qué tan frecuentemente cada modelo clasifica correctamente en los pliegues de validación.\n",
    "\n",
    "Dado que los datos se encuentran desbalanceados: la clase de pacientes sanos está sobrerepresentada en comparación con los pacientes pre-diabéticos, y los diabéticos; se ha optado utilizar un muestreo estratificado, con el cual se preservará las proporciones de clases en cada pliegue de entrenamiento.\n",
    "\n",
    "Para este caso se utilizará el iterador <a href=\"https://scikit-learn.org/1.5/modules/generated/sklearn.model_selection.StratifiedKFold.html#sklearn.model_selection.StratifiedKFold\">Stratified k-fold</a> de la librería scikit-learn utilizando los siguientes parámetros:\n",
    "- *<b>n_splits</b>*: Indica el número k de veces que se separará los datos en diferentes \"folds\" siendo k-1 folds los utilizados para el entrenamiento y el último para validación. En otras palabras, se puede entrenar k veces al modelo utilizando en cada iteración diferentes sets de entrenamiento y de validación.\n",
    "- *<b>shuffle</b>*: Indica si el set de datos se reordenará de manera aleatoria antes de realizar la separación. Esto es de utilidad para evitar que se genere un sesgo debido al orden de los datos.\n",
    "- *<b>random_state</b>*: Para que los resultados sean reproducibles."
   ]
  },
  {
   "cell_type": "code",
   "execution_count": null,
   "id": "cfdd3f79",
   "metadata": {},
   "outputs": [],
   "source": [
    "from sklearn.model_selection import StratifiedKFold, cross_validate\n",
    "\n",
    "# Iterador para validación cruzada\n",
    "skf = StratifiedKFold(n_splits=5, shuffle=True, random_state=42)\n",
    "\n",
    "# Función para obtener los scores de validación cruzada\n",
    "def get_cv_scores(model, X, y, cv):\n",
    "    # Lista de métricas de evaluación\n",
    "    scoring = ['accuracy', 'f1_macro', 'recall_macro', 'roc_auc_ovr']\n",
    "\n",
    "    results = cross_validate(model, X, y, cv=cv, scoring=scoring, return_train_score=True, error_score='raise')\n",
    "    \n",
    "    scores = {}\n",
    "    # Mostrar resultados\n",
    "    for metric in scoring:\n",
    "        scores[metric] = results['test_' + metric]\n",
    "    return scores"
   ]
  },
  {
   "cell_type": "markdown",
   "id": "34da06a6",
   "metadata": {},
   "source": [
    "Además, se gráficara cada una de las métricas obtenidas, mostrando lo siguiente: \n",
    "\n",
    "* El eje *x* o u horizontal mostrará el rango ajustado a los valores obtenidos a lo largo de las pruebas con cada una de las particiones.\n",
    "* El eje *y* o vertical mostrará la frecuencia con que dicho valor ha aparecido a lo largo del entrenamiento\n",
    "* La linea que divide el gráfico de forma vertical marcará la media obtenida del indicador en cuestión, su valor también aparecerá en la leyenda del gráfico para facilitar su interpretación. "
   ]
  },
  {
   "cell_type": "code",
   "execution_count": null,
   "id": "6b427796",
   "metadata": {},
   "outputs": [],
   "source": [
    "# Función para graficar la distribución de los scores de exactitud\n",
    "def graph_cv_scores(accuracy_scores, mean_score, metric_name):\n",
    "    plt.figure(figsize=(10, 6))\n",
    "    sns.histplot(accuracy_scores, kde=True, bins=30, edgecolor='black', alpha=0.7)\n",
    "\n",
    "    # Añadir líneas para los percentiles del 95% de IC\n",
    "    plt.axvline(mean_score, color='black', linestyle='-', label=f'Mean: {mean_score:.4f}')\n",
    "    \n",
    "    # Etiquetas y título\n",
    "    plt.title(f\"Distribución de los Scores de {metric_name} (cross-validation)\", fontsize=16)\n",
    "    plt.xlabel(f\"{metric_name}\", fontsize=14)\n",
    "    plt.ylabel(\"Frecuencia\", fontsize=14)\n",
    "\n",
    "    # Leyenda\n",
    "    plt.legend()\n",
    "\n",
    "    # Mostrar la gráfica\n",
    "    plt.show()"
   ]
  },
  {
   "cell_type": "code",
   "execution_count": null,
   "id": "8d74da00",
   "metadata": {},
   "outputs": [],
   "source": [
    "# Funcion para graficar los resultados de las metricas en conjunto\n",
    "def graph_cv_scores_multimetric(scores_dict, metric_names):\n",
    "    \"\"\"\n",
    "    Args:\n",
    "        scores_dict (dict): Un diccionario donde las claves son los nombres de las métricas y los valores son listas de scores.\n",
    "        metric_names (list): Una lista de nombres de métricas que se graficarán.\n",
    "    \"\"\"\n",
    "    num_metrics = len(metric_names)  # Número de métricas\n",
    "    cols = 2  # Número de columnas en las subplots\n",
    "    rows = (num_metrics + cols - 1) // cols  # Calcular filas necesarias\n",
    "\n",
    "    # Crear la figura y los ejes\n",
    "    fig, axes = plt.subplots(rows, cols, figsize=(15, rows * 5), constrained_layout=True)\n",
    "\n",
    "    # Asegurar que `axes` sea un arreglo plano para facilitar el manejo\n",
    "    axes = axes.flatten()\n",
    "\n",
    "    # Iterar sobre cada métrica\n",
    "    for idx, metric in enumerate(metric_names):\n",
    "        if metric in scores_dict:\n",
    "            accuracy_scores = scores_dict[metric]\n",
    "            mean_score = np.mean(scores_dict[metric])\n",
    "            \n",
    "            # Crear el histograma\n",
    "            sns.histplot(accuracy_scores, kde=True, bins=30, edgecolor='black', alpha=0.7, ax=axes[idx])\n",
    "\n",
    "            # Añadir la línea del promedio\n",
    "            axes[idx].axvline(mean_score, color='black', linestyle='-', label=f'Mean: {mean_score:.4f}')\n",
    "            \n",
    "            # Etiquetas y título\n",
    "            axes[idx].set_title(f\"Distribución de los Scores de {metric} (cross-validation)\", fontsize=14)\n",
    "            axes[idx].set_xlabel(f\"{metric}\", fontsize=12)\n",
    "            axes[idx].set_ylabel(\"Frecuencia\", fontsize=12)\n",
    "\n",
    "            # Leyenda\n",
    "            axes[idx].legend()\n",
    "        else:\n",
    "            # Si la métrica no está en los datos, mostrar un mensaje\n",
    "            axes[idx].text(0.5, 0.5, f\"No data for {metric}\", fontsize=14, ha='center', va='center')\n",
    "            axes[idx].set_title(metric)\n",
    "            axes[idx].axis('off')\n",
    "\n",
    "    # Apagar subplots extra si hay\n",
    "    for i in range(len(metric_names), len(axes)):\n",
    "        axes[i].axis('off')\n",
    "\n",
    "    # Mostrar la gráfica\n",
    "    plt.show()"
   ]
  },
  {
   "cell_type": "markdown",
   "id": "a2d4097f",
   "metadata": {},
   "source": [
    "### Métricas y generación de intervalos de confianza con bootstrap\n",
    "\n",
    "A continuación se generan los intérvalos de confianza para cada modelo mediante el método de bootstrap. El método de bootstrap consiste en el remuestreo para estimar métricas en una población a partir de muestras con reemplazo del set de datos disponible.\n",
    "\n",
    "#### ¿Cómo funciona?\n",
    "1. De un set de datos grandes se crea una muestra con datos que pueden ser repetidos. Por ejemplo, de un set de 100 datos se toma una muestra de 80 datos, se escoge el dato en la posición i, sin embargo no se elimina de la fuente de datos por lo cual puede volver a ser escogido.\n",
    "2. Una vez hecha la muestra, se obtiene la métrica de interés de esta. Por ejemplo, si es de interés obtener la media de la población, se obtendría la media de la muestra y se guarda.\n",
    "3. Se repiten los pasos 1 y 2 hasta un número de iteraciones predefinido.\n",
    "4. Una vez obtenidas las métricas para cada muestra, se saca el promedio de las métricas.\n",
    "\n",
    "#### ¿Cómo se aplica en un modelo de aprendizaje automático?\n",
    "Se repiten exactamente los mismos pasos mencionados anteriormente, sin embargo, se debe tomar en cuenta la siguiente variación: \n",
    "- Para el entrenamiento del modelo se utiliza la totalidad de los datos dentro de la muestra, sin embargo, para la evaluación del modelo se debe apartar otro set de datos conocido como out-of-bag u oob.\n",
    "\n",
    "#### ¿Cómo calcular los intervalos de confianza?\n",
    "Para obtener los intérvalos de confianza se define un nivel de confianza, por ejemplo: 95%; y se calculan los percentiles dentro de las métricas obtenidas a partir de bootstrap. Los percentiles obtenidos representan los límites inferior y superior del intérvalo. Por ejemplo, si se escoge un nivel de confianza del 95% y se obtienen los siguientes límites del intérvalo de confianza para la métrica de exactitud: [0.84, 0.87] se puede concluir que el 95% de las veces que se ejecute ese modelo tendrá una exactitud entre 84% y 87%.\n",
    "\n",
    "#### Beneficios\n",
    "- <b>Permite medir la estabilidad del modelo:</b> Cuando se realiza submuestreo bootstrap, se entrena y evalua el modelo en diferentes subconjuntos de datos. Esto permite ver cómo varía la métrica del modelo cuando se entrena en diferentes muestras de datos. Si el intervalo de confianza es estrecho, significa que la métrica del modelo es bastante estable, lo cual es deseable. Si es amplio, indica que el modelo puede estar siendo sensible a variaciones en los datos y que el rendimiento podría no ser consistente.\n",
    "- <b>Justificación de selección de modelo:</b> Si el intervalo de confianza de un modelo es mucho más estrecho o más alto en comparación con otros modelos, se puede tener una base más sólida para justificar por qué ese modelo es el mejor.\n",
    "- <b>Evaluación de la generalización del modelo:</b> El bootstrap permite evaluar cómo el modelo puede generalizar a datos no vistos, ya que se entrena con subconjuntos aleatorios de datos. Si el intervalo de confianza es relativamente pequeño y alto, indica que el modelo tiene un buen rendimiento general y puede generalizar bien, es decir, no está sobreajustado (overfitting).\n",
    "\n",
    "\n",
    "**Dentro del desarrollo del proyecto, se empleará un intervalo de confianza del 95%**"
   ]
  },
  {
   "cell_type": "code",
   "execution_count": 16,
   "id": "5a5774eb",
   "metadata": {},
   "outputs": [],
   "source": [
    "# Función para obtener las métricas de evaluación y los límites del intérvalo de confianza\n",
    "def get_bootstrap_metrics_ci(n_iterations, sample_size, X, y, model, training=True):\n",
    "    # Almacenar resultados de cada métrica\n",
    "    metrics_results = {\n",
    "        \"accuracy\": [],\n",
    "        \"sensitivity\": [],  # Sensitivity = Recall para la clase positiva\n",
    "        \"auc\": [],\n",
    "        \"f1\": [],  # F1-score\n",
    "    }\n",
    "\n",
    "    # Inicializar lista para F1 por clase\n",
    "    f1_per_class_results = []\n",
    "    \n",
    "    indices = np.arange(X.shape[0])\n",
    "\n",
    "    for i in range(n_iterations):\n",
    "        np.random.seed(42 + i)\n",
    "        \n",
    "        # Selección bootstrap por índices\n",
    "        bootstrap_indices = np.random.choice(indices, size=sample_size, replace=True)\n",
    "        oob_indices = np.setdiff1d(indices, bootstrap_indices)\n",
    "\n",
    "        # Conjunto bootstrap y OOB\n",
    "        X_ = X[bootstrap_indices]\n",
    "        y_ = y[bootstrap_indices]\n",
    "        oob_x = X[oob_indices]\n",
    "        oob_y = y[oob_indices]\n",
    "\n",
    "        if training:\n",
    "            # Entrenando modelo\n",
    "            model.fit(X_, y_)\n",
    "            \n",
    "\n",
    "        # Predicciones\n",
    "        y_pred = model.predict(oob_x)\n",
    "\n",
    "        # Calcular métricas\n",
    "        metrics_results[\"accuracy\"].append(accuracy_score(oob_y, y_pred))\n",
    "        metrics_results[\"sensitivity\"].append(recall_score(oob_y, y_pred, average=\"macro\"))\n",
    "        metrics_results[\"f1\"].append(f1_score(oob_y, y_pred, average=\"macro\"))\n",
    "        \n",
    "        # Calcular F1 por clase\n",
    "        f1_per_class = f1_score(oob_y, y_pred, average=None)  # F1 para cada clase\n",
    "        f1_per_class_results.append(f1_per_class)\n",
    "\n",
    "        # Manejo de predict_proba para AUC multiclase\n",
    "        if hasattr(model, \"predict_proba\"):\n",
    "            y_pred_proba = model.predict_proba(oob_x)  # Probabilidades para todas las clases\n",
    "            \n",
    "            # Calcular AUC multiclase\n",
    "            try:\n",
    "                auc_score = roc_auc_score(oob_y, y_pred_proba, multi_class=\"ovr\", average=\"macro\")\n",
    "                metrics_results[\"auc\"].append(auc_score)\n",
    "            except ValueError as e:\n",
    "                print(f\"Error en AUC multiclase: {e}\")\n",
    "                metrics_results[\"auc\"].append(None)\n",
    "        else:\n",
    "            y_pred_proba = None\n",
    "            metrics_results[\"auc\"].append(None)\n",
    "\n",
    "    # Convertir las métricas a un DataFrame para facilidad de manejo\n",
    "    metrics_df = pd.DataFrame(metrics_results)\n",
    "    \n",
    "    # Agregar F1 por clase como columnas separadas\n",
    "    f1_per_class_df = pd.DataFrame(f1_per_class_results, columns=[f\"f1_class_{i}\" for i in range(len(np.unique(y)))])\n",
    "    metrics_df = pd.concat([metrics_df, f1_per_class_df], axis=1)\n",
    "    \n",
    "    # Calcular intervalos de confianza para cada métrica\n",
    "    ci_results = {}\n",
    "    for metric in metrics_results.keys():\n",
    "        ci_results[metric] = {\n",
    "            \"mean\": np.mean(metrics_df[metric]),\n",
    "            \"lower_bound\": np.percentile(metrics_df[metric].dropna(), 2.5),  # Excluye None\n",
    "            \"upper_bound\": np.percentile(metrics_df[metric].dropna(), 97.5)\n",
    "        }\n",
    "\n",
    "    # Calcular intervalos de confianza para F1 por clase\n",
    "    for i in range(len(np.unique(y))):\n",
    "        class_metric = f\"f1_class_{i}\"\n",
    "        ci_results[class_metric] = {\n",
    "            \"mean\": np.mean(metrics_df[class_metric]),\n",
    "            \"lower_bound\": np.percentile(metrics_df[class_metric].dropna(), 2.5),\n",
    "            \"upper_bound\": np.percentile(metrics_df[class_metric].dropna(), 97.5)\n",
    "        }\n",
    "\n",
    "    return metrics_df, ci_results"
   ]
  },
  {
   "cell_type": "markdown",
   "id": "5776f451",
   "metadata": {},
   "source": [
    "Además, se gráficara cada una de las métricas obtenidas, al igual que en Cross Validation siguiendo un esquema muy similar, mostrando lo siguiente: \n",
    "\n",
    "* El eje *x* o u horizontal mostrará el rango ajustado a los valores obtenidos a lo largo de las pruebas con cada una de las particiones.\n",
    "* El eje *y* o vertical mostrará la frecuencia con que dicho valor ha aparecido a lo largo del entrenamiento\n",
    "* La linea que divide el gráfico de forma vertical marcará la media obtenida del indicador en cuestión, su valor también aparecerá en la leyenda del gráfico para facilitar su interpretación. "
   ]
  },
  {
   "cell_type": "code",
   "execution_count": null,
   "id": "25d01487",
   "metadata": {},
   "outputs": [],
   "source": [
    "# Función para graficar la distribución de los scores de exactitud\n",
    "def graph_bootstrap_ci(accuracy_scores, lower_bound, upper_bound, mean_score, metric_name):\n",
    "    plt.figure(figsize=(10, 6))\n",
    "    sns.histplot(accuracy_scores, kde=True, bins=30, edgecolor='black', alpha=0.7)\n",
    "\n",
    "    # Añadir líneas para los percentiles del 95% de IC\n",
    "    plt.axvline(lower_bound, color='red', linestyle='--', label=f'2.5% Percentile: {lower_bound:.4f}')\n",
    "    plt.axvline(upper_bound, color='green', linestyle='--', label=f'97.5% Percentile: {upper_bound:.4f}')\n",
    "    plt.axvline(mean_score, color='black', linestyle='-', label=f'Mean: {mean_score:.4f}')\n",
    "    \n",
    "    # Etiquetas y título\n",
    "    plt.title(f\"Distribución de los Scores de {metric_name} (Bootstrap)\", fontsize=16)\n",
    "    plt.xlabel(f\"{metric_name}\", fontsize=14)\n",
    "    plt.ylabel(\"Frecuencia\", fontsize=14)\n",
    "\n",
    "    # Leyenda\n",
    "    plt.legend()\n",
    "\n",
    "    # Mostrar la gráfica\n",
    "    plt.show()"
   ]
  },
  {
   "cell_type": "code",
   "execution_count": null,
   "id": "c3daf987",
   "metadata": {},
   "outputs": [],
   "source": [
    "# TODO ADAPTAR LA FUNCION\n",
    "def graph_bootstrap_ci_multimetric(scores_dict, metric_names,ci_values):\n",
    "    num_metrics = len(metric_names)  # Número de métricas\n",
    "    cols = 2  # Número de columnas en las subplots\n",
    "    rows = (num_metrics + cols - 1) // cols  # Calcular filas necesarias\n",
    "\n",
    "    # Crear la figura y los ejes\n",
    "    fig, axes = plt.subplots(rows, cols, figsize=(15, rows * 5), constrained_layout=True)\n",
    "\n",
    "    # Asegurar que `axes` sea un arreglo plano para facilitar el manejo\n",
    "    axes = axes.flatten()\n",
    "\n",
    "    # Iterar sobre cada métrica\n",
    "    for idx, metric in enumerate(metric_names):\n",
    "        if metric in scores_dict:\n",
    "            accuracy_scores = scores_dict[metric]\n",
    "            mean_score = ci_values[metric]['mean']\n",
    "            lower_bound = ci_values[metric]['lower_bound']\n",
    "            upper_bound = ci_values[metric]['upper_bound']\n",
    "            \n",
    "            \n",
    "            # Crear el histograma\n",
    "            sns.histplot(accuracy_scores, kde=True, bins=30, edgecolor='black', alpha=0.7, ax=axes[idx])\n",
    "\n",
    "            # Añadir la línea del promedio\n",
    "            axes[idx].axvline(mean_score, color='black', linestyle='-', label=f'Mean: {mean_score:.4f}')\n",
    "            # Añadir líneas para los percentiles del 95% de IC\n",
    "            axes[idx].axvline(lower_bound, color='red', linestyle='--', label=f'2.5% Percentile: {lower_bound:.4f}')\n",
    "            axes[idx].axvline(upper_bound, color='green', linestyle='--', label=f'97.5% Percentile: {upper_bound:.4f}')\n",
    "            \n",
    "            # Etiquetas y título\n",
    "            axes[idx].set_title(f\"Distribución de los Scores de {metric} (Bootstrapping)\", fontsize=14)\n",
    "            axes[idx].set_xlabel(f\"{metric}\", fontsize=12)\n",
    "            axes[idx].set_ylabel(\"Frecuencia\", fontsize=12)\n",
    "\n",
    "            # Leyenda\n",
    "            axes[idx].legend()\n",
    "        else:\n",
    "            # Si la métrica no está en los datos, mostrar un mensaje\n",
    "            axes[idx].text(0.5, 0.5, f\"No data for {metric}\", fontsize=14, ha='center', va='center')\n",
    "            axes[idx].set_title(metric)\n",
    "            axes[idx].axis('off')\n",
    "\n",
    "    # Apagar subplots extra si hay\n",
    "    for i in range(len(metric_names), len(axes)):\n",
    "        axes[i].axis('off')\n",
    "\n",
    "    # Mostrar la gráfica\n",
    "    plt.show()"
   ]
  },
  {
   "cell_type": "markdown",
   "id": "35cdcf7f",
   "metadata": {},
   "source": [
    "### Entrenamiento de los modelos\n",
    "\n",
    "Indice: \n",
    "* Regresión Logística\n",
    "* k nearest neighbors (KNN)\n",
    "* Random Forest (RF)\n",
    "* Decision Tree Classifier (DTC)\n",
    "* Neural Network (NN) - Multilayer Perceptron\n",
    "* LinearDiscriminantAnalysis (LDA)"
   ]
  },
  {
   "cell_type": "markdown",
   "id": "15ae42c1",
   "metadata": {},
   "source": [
    "#### Regresión Logística\n",
    "\n",
    "**Descripción:** Es un modelo lineal que estima la probabilidad de pertenencia de una muestra a una clase basándose en una función logística (sigmoide). Es especialmente útil para problemas de clasificación binaria, aunque también puede extenderse a clasificación multiclase (usando softmax).\n",
    "\n",
    "**Ventajas:**\n",
    "- Simple de interpretar.\n",
    "- Computacionalmente eficiente.\n",
    "- Funciona bien con conjuntos de datos linealmente separables.\n",
    "\n",
    "**Desventajas:**\n",
    "- No captura relaciones no lineales entre variables.\n",
    "- Sensible a datos desbalanceados si no se maneja adecuadamente."
   ]
  },
  {
   "cell_type": "code",
   "execution_count": null,
   "id": "816a62a8",
   "metadata": {},
   "outputs": [],
   "source": [
    "lr = LogisticRegression(solver='lbfgs', max_iter=1000, random_state=42)\n",
    "scores = get_cv_scores(model=lr, X=X_train, y=y_train, cv=skf)"
   ]
  },
  {
   "cell_type": "code",
   "execution_count": null,
   "id": "fec0891b",
   "metadata": {},
   "outputs": [],
   "source": [
    "graph_cv_scores_multimetric(scores,['accuracy', 'f1_macro', 'recall_macro', 'roc_auc_ovr'])"
   ]
  },
  {
   "cell_type": "code",
   "execution_count": null,
   "id": "3fe1b529",
   "metadata": {},
   "outputs": [],
   "source": [
    "# Cambiar de 25 a 30 para entrega final \n",
    "n_iterations = 25\n",
    "sample_size = int(X_train.shape[0] * 0.50)\n",
    "\n",
    "lr = LogisticRegression(solver='lbfgs', max_iter=1000, random_state=42)\n",
    "metrics_df, ci_results = get_bootstrap_metrics_ci(n_iterations, sample_size, X_train, y_train, lr)"
   ]
  },
  {
   "cell_type": "code",
   "execution_count": null,
   "id": "877c6f69",
   "metadata": {},
   "outputs": [],
   "source": [
    "print(\"Resultados de las métricas para cada muestra bootstrap:\")\n",
    "metrics_df.head()"
   ]
  },
  {
   "cell_type": "code",
   "execution_count": null,
   "id": "797c07b4",
   "metadata": {},
   "outputs": [],
   "source": [
    "print(\"Intervalos de confianza de las métricas:\")\n",
    "pd.DataFrame(ci_results)"
   ]
  },
  {
   "cell_type": "code",
   "execution_count": null,
   "id": "cb70ccda",
   "metadata": {},
   "outputs": [],
   "source": [
    "graph_bootstrap_ci_multimetric(metrics_df,['accuracy', 'sensitivity', 'auc', 'f1'],ci_results)"
   ]
  },
  {
   "cell_type": "markdown",
   "id": "8bc89ac0",
   "metadata": {},
   "source": [
    "#### K nearest neighbors - KNN\n",
    "\n",
    "**Descripción:** Es un modelo basado en instancias que clasifica una muestra según las clases de sus k vecinos más cercanos en el espacio de características. Usa una métrica de distancia (como la euclidiana) para determinar qué tan cerca están los vecinos.\n",
    "\n",
    "**Ventajas:**\n",
    "- No requiere un entrenamiento explícito.\n",
    "- Sencillo de implementar.\n",
    "- Puede capturar relaciones no lineales si la cantidad de vecinos es adecuada.\n",
    "\n",
    "**Desventajas:**\n",
    "- Computacionalmente costoso con grandes volúmenes de datos.\n",
    "- Sensible al ruido y a la elección de k.\n",
    "- Afectado por escalas y unidades de las variables."
   ]
  },
  {
   "cell_type": "code",
   "execution_count": null,
   "id": "6c889019",
   "metadata": {},
   "outputs": [],
   "source": [
    "knn = KNeighborsClassifier(n_neighbors=3)\n",
    "scores = get_cv_scores(model=knn, X=X_train, y=y_train, cv=skf)"
   ]
  },
  {
   "cell_type": "code",
   "execution_count": null,
   "id": "7055f463",
   "metadata": {},
   "outputs": [],
   "source": [
    "graph_cv_scores_multimetric(scores,['accuracy', 'f1_macro', 'recall_macro', 'roc_auc_ovr'])"
   ]
  },
  {
   "cell_type": "code",
   "execution_count": null,
   "id": "9694f6fa",
   "metadata": {},
   "outputs": [],
   "source": [
    "metrics_df, ci_results = get_bootstrap_metrics_ci(n_iterations, sample_size, X_train, y_train, knn)"
   ]
  },
  {
   "cell_type": "code",
   "execution_count": null,
   "id": "a64ae6b0",
   "metadata": {},
   "outputs": [],
   "source": [
    "print(\"Resultados de las métricas para cada muestra bootstrap:\")\n",
    "metrics_df.head()"
   ]
  },
  {
   "cell_type": "code",
   "execution_count": null,
   "id": "1c1bb891",
   "metadata": {},
   "outputs": [],
   "source": [
    "print(\"Intervalos de confianza de las métricas:\")\n",
    "pd.DataFrame(ci_results)"
   ]
  },
  {
   "cell_type": "code",
   "execution_count": null,
   "id": "5b8c5205",
   "metadata": {},
   "outputs": [],
   "source": [
    "graph_bootstrap_ci_multimetric(metrics_df,['accuracy', 'sensitivity', 'auc', 'f1'],ci_results)"
   ]
  },
  {
   "cell_type": "markdown",
   "id": "4d071402",
   "metadata": {},
   "source": [
    "#### Random Forest\n",
    "\n",
    "**Descripción:** Es un modelo basado en el ensamblado de múltiples árboles de decisión, entrenados de manera aleatoria. Combina predicciones de estos árboles (por votación para clasificación o promedio para regresión) para mejorar la generalización.\n",
    "\n",
    "**Ventajas:**\n",
    "- Maneja bien datos no lineales y de alta dimensionalidad.\n",
    "- Resistente al sobreajuste gracias a la aleatoriedad y al promedio/votación.\n",
    "- Soporta datos con clases desbalanceadas.\n",
    "\n",
    "**Desventajas:**\n",
    "- Puede ser más lento en predicción si el bosque es grande.\n",
    "- Menos interpretable que un solo árbol de decisión."
   ]
  },
  {
   "cell_type": "code",
   "execution_count": null,
   "id": "46a1e970",
   "metadata": {},
   "outputs": [],
   "source": [
    "rf = RandomForestClassifier(max_depth=650,class_weight=\"balanced\")"
   ]
  },
  {
   "cell_type": "code",
   "execution_count": null,
   "id": "3beaedbe",
   "metadata": {},
   "outputs": [],
   "source": [
    "scores = get_cv_scores(model=rf, X=X_train, y=y_train, cv=skf)"
   ]
  },
  {
   "cell_type": "code",
   "execution_count": null,
   "id": "5d9e57d0",
   "metadata": {},
   "outputs": [],
   "source": [
    "graph_cv_scores_multimetric(scores,['accuracy', 'f1_macro', 'recall_macro', 'roc_auc_ovr'])"
   ]
  },
  {
   "cell_type": "code",
   "execution_count": null,
   "id": "9278ecb8",
   "metadata": {},
   "outputs": [],
   "source": [
    "metrics_df, ci_results = get_bootstrap_metrics_ci(n_iterations, sample_size, X_train, y_train, rf)"
   ]
  },
  {
   "cell_type": "code",
   "execution_count": null,
   "id": "2de1c3ac",
   "metadata": {},
   "outputs": [],
   "source": [
    "print(\"Resultados de las métricas para cada muestra bootstrap:\")\n",
    "metrics_df.head()"
   ]
  },
  {
   "cell_type": "code",
   "execution_count": null,
   "id": "60e551bd",
   "metadata": {},
   "outputs": [],
   "source": [
    "print(\"Intervalos de confianza de las métricas:\")\n",
    "pd.DataFrame(ci_results)"
   ]
  },
  {
   "cell_type": "code",
   "execution_count": null,
   "id": "bddf597d",
   "metadata": {},
   "outputs": [],
   "source": [
    "graph_bootstrap_ci_multimetric(metrics_df,['accuracy', 'sensitivity', 'auc', 'f1'],ci_results)"
   ]
  },
  {
   "cell_type": "markdown",
   "id": "edd86a5e",
   "metadata": {},
   "source": [
    "#### Decision Tree\n",
    "\n",
    "**Descripción:** Es un modelo de clasificación que utiliza una estructura de árbol para dividir los datos en subconjuntos basados en reglas de decisión derivadas de las características. Cada nodo representa una condición, y cada rama, una división de datos.\n",
    "\n",
    "**Ventajas:**\n",
    "- Fácil de interpretar y visualizar.\n",
    "- Maneja bien relaciones no lineales.\n",
    "- No requiere normalización de datos.\n",
    "\n",
    "**Desventajas:**\n",
    "- Propenso al sobreajuste si el árbol es muy profundo.\n",
    "- Sensible al ruido en los datos."
   ]
  },
  {
   "cell_type": "code",
   "execution_count": null,
   "id": "22935dc3",
   "metadata": {},
   "outputs": [],
   "source": [
    "dtc = DecisionTreeClassifier(max_depth=250,class_weight='balanced')\n",
    "scores = get_cv_scores(model=dtc, X=X_train, y=y_train, cv=skf)"
   ]
  },
  {
   "cell_type": "code",
   "execution_count": null,
   "id": "a8404659",
   "metadata": {},
   "outputs": [],
   "source": [
    "graph_cv_scores_multimetric(scores,['accuracy', 'f1_macro', 'recall_macro', 'roc_auc_ovr'])"
   ]
  },
  {
   "cell_type": "code",
   "execution_count": null,
   "id": "bf5558ab",
   "metadata": {},
   "outputs": [],
   "source": [
    "metrics_df, ci_results = get_bootstrap_metrics_ci(n_iterations, sample_size, X_train, y_train, dtc)"
   ]
  },
  {
   "cell_type": "code",
   "execution_count": null,
   "id": "5d75da28",
   "metadata": {},
   "outputs": [],
   "source": [
    "print(\"Resultados de las métricas para cada muestra bootstrap:\")\n",
    "metrics_df.head()"
   ]
  },
  {
   "cell_type": "code",
   "execution_count": null,
   "id": "ccd67165",
   "metadata": {},
   "outputs": [],
   "source": [
    "print(\"Intervalos de confianza de las métricas:\")\n",
    "pd.DataFrame(ci_results)"
   ]
  },
  {
   "cell_type": "code",
   "execution_count": null,
   "id": "7166b881",
   "metadata": {},
   "outputs": [],
   "source": [
    "graph_bootstrap_ci_multimetric(metrics_df,['accuracy', 'sensitivity', 'auc', 'f1'],ci_results)"
   ]
  },
  {
   "cell_type": "markdown",
   "id": "c7ed73bc",
   "metadata": {},
   "source": [
    "#### Neural Network - Multilayer Perceptron\n",
    "\n",
    "**Descripción:** Es un modelo inspirado en el cerebro humano, compuesto por capas de neuronas (entrada, ocultas y salida). Las redes neuronales multicapa son capaces de aprender representaciones complejas y capturar relaciones no lineales en los datos.\n",
    "\n",
    "**Ventajas:**\n",
    "- Flexible y poderoso para modelar datos complejos.\n",
    "- Puede aproximar casi cualquier función no lineal.\n",
    "- Escalable a grandes conjuntos de datos.\n",
    "\n",
    "**Desventajas:**\n",
    "- Requiere más tiempo de entrenamiento y optimización.\n",
    "- Necesita ajustes finos (arquitectura, tasas de aprendizaje, etc.).\n",
    "- Menos interpretable que los modelos tradicionales."
   ]
  },
  {
   "cell_type": "code",
   "execution_count": null,
   "id": "6ad5b063",
   "metadata": {},
   "outputs": [],
   "source": [
    "mp = MLPClassifier(max_iter=650)\n",
    "scores = get_cv_scores(model=mp, X=X_train, y=y_train, cv=skf)"
   ]
  },
  {
   "cell_type": "code",
   "execution_count": null,
   "id": "4cf2e260",
   "metadata": {},
   "outputs": [],
   "source": [
    "graph_cv_scores_multimetric(scores,['accuracy', 'f1_macro', 'recall_macro', 'roc_auc_ovr'])"
   ]
  },
  {
   "cell_type": "code",
   "execution_count": null,
   "id": "e1bbbedf",
   "metadata": {},
   "outputs": [],
   "source": [
    "metrics_df, ci_results = get_bootstrap_metrics_ci(n_iterations, sample_size, X_train, y_train, mp)"
   ]
  },
  {
   "cell_type": "code",
   "execution_count": null,
   "id": "50961b69",
   "metadata": {},
   "outputs": [],
   "source": [
    "print(\"Resultados de las métricas para cada muestra bootstrap:\")\n",
    "metrics_df.head()"
   ]
  },
  {
   "cell_type": "code",
   "execution_count": null,
   "id": "b2229907",
   "metadata": {},
   "outputs": [],
   "source": [
    "print(\"Intervalos de confianza de las métricas:\")\n",
    "pd.DataFrame(ci_results)"
   ]
  },
  {
   "cell_type": "code",
   "execution_count": null,
   "id": "822539f9",
   "metadata": {},
   "outputs": [],
   "source": [
    "graph_bootstrap_ci_multimetric(metrics_df,['accuracy', 'sensitivity', 'auc', 'f1'],ci_results)"
   ]
  },
  {
   "cell_type": "markdown",
   "id": "21abaf0b",
   "metadata": {},
   "source": [
    "#### Linear Discriminant Analysis \n",
    "\n",
    "**Descripción:** Es un modelo lineal que busca maximizar la separación entre clases proyectando los datos a un espacio de menor dimensión donde las clases sean más separables. Supone que las clases siguen distribuciones gaussianas con la misma matriz de covarianza.\n",
    "\n",
    "**Ventajas:**\n",
    "- Simple y computacionalmente eficiente.\n",
    "- Funciona bien con clases separables linealmente.\n",
    "- Integra reducción de dimensionalidad y clasificación.\n",
    "\n",
    "**Desventajas:**\n",
    "- Asume normalidad y homogeneidad en las covarianzas de las clases.\n",
    "- No maneja relaciones no lineales."
   ]
  },
  {
   "cell_type": "code",
   "execution_count": null,
   "id": "1098db5d",
   "metadata": {},
   "outputs": [],
   "source": [
    "lda = LinearDiscriminantAnalysis()"
   ]
  },
  {
   "cell_type": "code",
   "execution_count": null,
   "id": "e4b04f45",
   "metadata": {},
   "outputs": [],
   "source": [
    "scores = get_cv_scores(model=lda, X=X_train, y=y_train, cv=skf)"
   ]
  },
  {
   "cell_type": "code",
   "execution_count": null,
   "id": "8397784d",
   "metadata": {},
   "outputs": [],
   "source": [
    "graph_cv_scores_multimetric(scores,['accuracy', 'f1_macro', 'recall_macro', 'roc_auc_ovr'])"
   ]
  },
  {
   "cell_type": "code",
   "execution_count": null,
   "id": "bfe75d4a",
   "metadata": {},
   "outputs": [],
   "source": [
    "metrics_df, ci_results = get_bootstrap_metrics_ci(n_iterations, sample_size, X_train, y_train, lda)"
   ]
  },
  {
   "cell_type": "code",
   "execution_count": null,
   "id": "8410d361",
   "metadata": {},
   "outputs": [],
   "source": [
    "print(\"Resultados de las métricas para cada muestra bootstrap:\")\n",
    "metrics_df.head()"
   ]
  },
  {
   "cell_type": "code",
   "execution_count": null,
   "id": "3b2cce59",
   "metadata": {},
   "outputs": [],
   "source": [
    "print(\"Intervalos de confianza de las métricas:\")\n",
    "pd.DataFrame(ci_results)"
   ]
  },
  {
   "cell_type": "code",
   "execution_count": null,
   "id": "aadbe4ee",
   "metadata": {},
   "outputs": [],
   "source": [
    "graph_bootstrap_ci_multimetric(metrics_df,['accuracy', 'sensitivity', 'auc', 'f1'],ci_results)"
   ]
  },
  {
   "cell_type": "markdown",
   "id": "b2635d8c",
   "metadata": {},
   "source": [
    "## Esquema de Prueba de Funcionamiento del modelo\n",
    "\n",
    "Para poder evaluar el resultado final del entrenamiento de cada uno de los modelos y obtener métricas reales del funcionamiento del modelo, estos serán evaluados con los datos reservados para la prueba del modelo. \n",
    "\n",
    "Para poder obtener múltiples métricas y simular el uso de varios casos de datos desconocidos, el modelo de prueba se basará en la función de boostraping usada anteriormente, con la particularidad que el modelo no será entrenado en los datos, si no que simplemente se evaluarán predicciones del conjunto de datos empleados y se guardarán las métricas correspondientes a esa iteración, para luego poder realizar una comparación con el desempeño en el entrenamiento del modelo.  "
   ]
  },
  {
   "cell_type": "code",
   "execution_count": null,
   "id": "603814d7",
   "metadata": {},
   "outputs": [],
   "source": [
    "models= {}"
   ]
  },
  {
   "cell_type": "code",
   "execution_count": null,
   "id": "bf568def",
   "metadata": {},
   "outputs": [],
   "source": [
    "n_iterations = 25\n",
    "sample_size = int(X_test.shape[0] * 0.50)"
   ]
  },
  {
   "cell_type": "markdown",
   "id": "d698eeda",
   "metadata": {},
   "source": [
    "#### Logistic Classification"
   ]
  },
  {
   "cell_type": "code",
   "execution_count": null,
   "id": "c6610b94",
   "metadata": {},
   "outputs": [],
   "source": [
    "metrics_df, ci_results = get_bootstrap_metrics_ci(n_iterations, sample_size, X_test, y_test, lr,training=False)\n",
    "models['Logistic Classification'] = {'metrics':metrics_df,'ci_results':ci_results} "
   ]
  },
  {
   "cell_type": "code",
   "execution_count": null,
   "id": "89f8e70f",
   "metadata": {},
   "outputs": [],
   "source": [
    "graph_bootstrap_ci_multimetric(models['Logistic Classification']['metrics'],['accuracy', 'sensitivity', 'auc', 'f1'],models['Logistic Classification']['ci_results'])"
   ]
  },
  {
   "cell_type": "markdown",
   "id": "622d1749",
   "metadata": {},
   "source": [
    "#### KNN"
   ]
  },
  {
   "cell_type": "code",
   "execution_count": null,
   "id": "ad9c4c9f",
   "metadata": {},
   "outputs": [],
   "source": [
    "metrics_df, ci_results = get_bootstrap_metrics_ci(n_iterations, sample_size, X_test, y_test,knn ,training=False)\n",
    "models['KNN'] = {'metrics':metrics_df,'ci_results':ci_results} "
   ]
  },
  {
   "cell_type": "code",
   "execution_count": null,
   "id": "ec461e00",
   "metadata": {},
   "outputs": [],
   "source": [
    "graph_bootstrap_ci_multimetric(models['KNN']['metrics'],['accuracy', 'sensitivity', 'auc', 'f1'],models['KNN']['ci_results'])"
   ]
  },
  {
   "cell_type": "markdown",
   "id": "159e3610",
   "metadata": {},
   "source": [
    "#### Random Forest"
   ]
  },
  {
   "cell_type": "code",
   "execution_count": null,
   "id": "3426cb9d",
   "metadata": {},
   "outputs": [],
   "source": [
    "metrics_df, ci_results = get_bootstrap_metrics_ci(n_iterations, sample_size, X_test, y_test, rf ,training=False)\n",
    "models['Random Forest'] = {'metrics':metrics_df,'ci_results':ci_results} "
   ]
  },
  {
   "cell_type": "code",
   "execution_count": null,
   "id": "48d46e69",
   "metadata": {},
   "outputs": [],
   "source": [
    "graph_bootstrap_ci_multimetric(models['Random Forest']['metrics'],['accuracy', 'sensitivity', 'auc', 'f1'],models['Random Forest']['ci_results'])"
   ]
  },
  {
   "cell_type": "markdown",
   "id": "beaec4df",
   "metadata": {},
   "source": [
    "#### Decision Tree"
   ]
  },
  {
   "cell_type": "code",
   "execution_count": null,
   "id": "6ba5e850",
   "metadata": {},
   "outputs": [],
   "source": [
    "metrics_df, ci_results = get_bootstrap_metrics_ci(n_iterations, sample_size, X_test, y_test, dtc ,training=False)\n",
    "models['Decision Tree'] = {'metrics':metrics_df,'ci_results':ci_results} "
   ]
  },
  {
   "cell_type": "code",
   "execution_count": null,
   "id": "a44de0eb",
   "metadata": {},
   "outputs": [],
   "source": [
    "graph_bootstrap_ci_multimetric(models['Decision Tree']['metrics'],['accuracy', 'sensitivity', 'auc', 'f1'],models['Decision Tree']['ci_results'])"
   ]
  },
  {
   "cell_type": "markdown",
   "id": "8f2af131",
   "metadata": {},
   "source": [
    "#### Neural Network - Multilayer Perceptron"
   ]
  },
  {
   "cell_type": "code",
   "execution_count": null,
   "id": "5db9cc62",
   "metadata": {},
   "outputs": [],
   "source": [
    "metrics_df, ci_results = get_bootstrap_metrics_ci(n_iterations, sample_size, X_test, y_test, mp ,training=False)\n",
    "models['NN'] = {'metrics':metrics_df,'ci_results':ci_results} "
   ]
  },
  {
   "cell_type": "code",
   "execution_count": null,
   "id": "247fda83",
   "metadata": {},
   "outputs": [],
   "source": [
    "graph_bootstrap_ci_multimetric(models['NN']['metrics'],['accuracy', 'sensitivity', 'auc', 'f1'],models['NN']['ci_results'])"
   ]
  },
  {
   "cell_type": "markdown",
   "id": "29a89724",
   "metadata": {},
   "source": [
    "#### LDA"
   ]
  },
  {
   "cell_type": "code",
   "execution_count": null,
   "id": "9a1f9f3c",
   "metadata": {},
   "outputs": [],
   "source": [
    "metrics_df, ci_results = get_bootstrap_metrics_ci(n_iterations, sample_size, X_test, y_test, lda ,training=False)\n",
    "models['LDA'] = {'metrics':metrics_df,'ci_results':ci_results} "
   ]
  },
  {
   "cell_type": "code",
   "execution_count": null,
   "id": "1ab8bb4b",
   "metadata": {},
   "outputs": [],
   "source": [
    "graph_bootstrap_ci_multimetric(models['LDA']['metrics'],['accuracy', 'sensitivity', 'auc', 'f1'],models['LDA']['ci_results'])"
   ]
  },
  {
   "cell_type": "markdown",
   "id": "0ff2a42f",
   "metadata": {},
   "source": [
    "## Proceso de Comparación de Modelos Post-Entrenamiento y Test. "
   ]
  },
  {
   "cell_type": "code",
   "execution_count": null,
   "id": "4fea49ad",
   "metadata": {},
   "outputs": [],
   "source": [
    "data = []\n",
    "for model_name, model_data in models.items():\n",
    "    df = model_data['metrics']\n",
    "    long_df = df.melt(var_name='Metric', value_name='Value')  # Convert to long format\n",
    "    long_df['Model'] = model_name  # Add model name\n",
    "    data.append(long_df)\n",
    "\n",
    "# Concatenate all data\n",
    "plot_data = pd.concat(data)\n",
    "\n",
    "# Create a separate plot for each metric\n",
    "metrics = plot_data['Metric'].unique()\n",
    "for metric in metrics:\n",
    "    metric_data = plot_data[plot_data['Metric'] == metric]\n",
    "    \n",
    "    # Plot the boxplot for this metric\n",
    "    plt.figure(figsize=(8, 6))\n",
    "    sns.boxplot(data=metric_data, x='Model', y='Value',hue='Model',palette='Set2')\n",
    "    plt.title(f'{metric.capitalize()} Across Models', fontsize=16)\n",
    "    plt.ylabel(f'{metric.capitalize()} Value')\n",
    "    plt.xlabel('ML Model')\n",
    "    plt.xticks(rotation=45)\n",
    "    plt.tight_layout()\n",
    "    plt.show()"
   ]
  },
  {
   "cell_type": "markdown",
   "id": "4d01a4d8",
   "metadata": {},
   "source": [
    "#### Kruskal Wallis Test "
   ]
  },
  {
   "cell_type": "code",
   "execution_count": null,
   "id": "45b24779",
   "metadata": {},
   "outputs": [],
   "source": [
    "from scipy.stats import kruskal"
   ]
  },
  {
   "cell_type": "code",
   "execution_count": null,
   "id": "c5a2371e",
   "metadata": {},
   "outputs": [],
   "source": [
    "# Step 1: Calculate the mean for each metric-model combination\n",
    "mean_df = plot_data.groupby(['Metric', 'Model'], as_index=False)['Value'].mean()\n",
    "\n",
    "# Initialize dictionary to store results\n",
    "kruskal_results = {}\n",
    "\n",
    "# List unique metrics in the dataframe\n",
    "metrics_to_test = mean_df['Metric'].unique()\n",
    "\n",
    "# Perform Kruskal-Wallis Test for each metric\n",
    "for metric in metrics_to_test:\n",
    "    # Filter data for the current metric\n",
    "    metric_data = mean_df[mean_df['Metric'] == metric]\n",
    "\n",
    "    # Group mean metric values by model\n",
    "    groups = [metric_data.loc[metric_data['Model'] == model, 'Value'] for model in metric_data['Model'].unique()]\n",
    "    \n",
    "    # Perform Kruskal-Wallis test\n",
    "    stat, p_value = kruskal(*groups)\n",
    "    kruskal_results[metric] = (stat, p_value)\n",
    "\n",
    "# Display Results\n",
    "print(\"Kruskal-Wallis Test Results (Using Mean Values):\")\n",
    "for metric, (stat, p_value) in kruskal_results.items():\n",
    "    print(f\"Metric: {metric}\")\n",
    "    print(f\"  H-statistic: {stat:.2f}\")\n",
    "    print(f\"  p-value: {p_value:.5f}\")\n",
    "    if p_value < 0.0001:\n",
    "        print(\"  Significant difference detected among models!\")\n",
    "    else:\n",
    "        print(\"  No significant difference detected among models.\")"
   ]
  },
  {
   "cell_type": "code",
   "execution_count": null,
   "id": "77b595b8",
   "metadata": {},
   "outputs": [],
   "source": [
    "plot_data"
   ]
  }
 ],
 "metadata": {
  "kernelspec": {
   "display_name": "ia",
   "language": "python",
   "name": "python3"
  },
  "language_info": {
   "codemirror_mode": {
    "name": "ipython",
    "version": 3
   },
   "file_extension": ".py",
   "mimetype": "text/x-python",
   "name": "python",
   "nbconvert_exporter": "python",
   "pygments_lexer": "ipython3",
   "version": "3.12.4"
  }
 },
 "nbformat": 4,
 "nbformat_minor": 5
}
