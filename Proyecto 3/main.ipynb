{
 "cells": [
  {
   "cell_type": "markdown",
   "id": "bd56e5e2-5a5a-4997-9284-91dc3f9a95dd",
   "metadata": {},
   "source": [
    "# Proyecto Final \n",
    "\n",
    "### Estudiantes:\n",
    "\n",
    "* Mónica Gabriela Cabañas Meléndez\n",
    "* Víctor Daniel Peraza Bolaños\n",
    "\n",
    "## Dataset Seleccionado: _CDC Diabetes Health Indicator_"
   ]
  }
 ],
 "metadata": {
  "kernelspec": {
   "display_name": "Python 3 (ipykernel)",
   "language": "python",
   "name": "python3"
  },
  "language_info": {
   "codemirror_mode": {
    "name": "ipython",
    "version": 3
   },
   "file_extension": ".py",
   "mimetype": "text/x-python",
   "name": "python",
   "nbconvert_exporter": "python",
   "pygments_lexer": "ipython3",
   "version": "3.12.1"
  }
 },
 "nbformat": 4,
 "nbformat_minor": 5
}
