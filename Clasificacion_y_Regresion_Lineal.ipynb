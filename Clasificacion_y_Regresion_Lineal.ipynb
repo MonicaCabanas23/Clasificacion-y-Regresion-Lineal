{
 "cells": [
  {
   "cell_type": "markdown",
   "metadata": {},
   "source": [
    "# Clasificación y Regresión Lineal\n",
    "\n",
    "### Integrantes\n",
    "\n",
    "| Nombres                              |\n",
    "| ------------------------------------ |\n",
    "| Mónica Gabriela Cabañas Meléndez     |\n",
    "| Víctor Daniel Peraza Bolaños         |"
   ]
  }
 ],
 "metadata": {
  "language_info": {
   "name": "python"
  }
 },
 "nbformat": 4,
 "nbformat_minor": 2
}
